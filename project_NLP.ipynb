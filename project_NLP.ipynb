{
 "cells": [
  {
   "cell_type": "markdown",
   "id": "e7423c4c",
   "metadata": {},
   "source": [
    "### Importing libraries:"
   ]
  },
  {
   "cell_type": "code",
   "execution_count": 1,
   "id": "4cfd426b",
   "metadata": {},
   "outputs": [],
   "source": [
    "import pandas as pd\n",
    "import numpy as np\n",
    "from PersianStemmer import PersianStemmer\n",
    "import re\n",
    "from sklearn.model_selection import ShuffleSplit, cross_val_score\n",
    "from sklearn.naive_bayes import MultinomialNB\n",
    "from sklearn import preprocessing\n",
    "from sklearn.naive_bayes import GaussianNB\n",
    "from sklearn.model_selection import train_test_split\n",
    "from sklearn.metrics import accuracy_score\n",
    "from sklearn import svm\n",
    "from sklearn.neighbors import KNeighborsClassifier\n",
    "from sklearn import tree\n",
    "from sklearn.linear_model import SGDClassifier\n",
    "from sklearn.pipeline import make_pipeline\n",
    "from sklearn.preprocessing import StandardScaler\n",
    "from sklearn.linear_model import Perceptron\n",
    "from sklearn.linear_model import LogisticRegression\n",
    "from sklearn.neural_network import MLPClassifier\n",
    "from sklearn.metrics import precision_score, recall_score, accuracy_score"
   ]
  },
  {
   "cell_type": "markdown",
   "id": "aaf75e89",
   "metadata": {},
   "source": [
    "### Reading the dataset:"
   ]
  },
  {
   "cell_type": "code",
   "execution_count": 2,
   "id": "f37e3a72",
   "metadata": {},
   "outputs": [
    {
     "data": {
      "text/html": [
       "<div>\n",
       "<style scoped>\n",
       "    .dataframe tbody tr th:only-of-type {\n",
       "        vertical-align: middle;\n",
       "    }\n",
       "\n",
       "    .dataframe tbody tr th {\n",
       "        vertical-align: top;\n",
       "    }\n",
       "\n",
       "    .dataframe thead th {\n",
       "        text-align: right;\n",
       "    }\n",
       "</style>\n",
       "<table border=\"1\" class=\"dataframe\">\n",
       "  <thead>\n",
       "    <tr style=\"text-align: right;\">\n",
       "      <th></th>\n",
       "      <th>token</th>\n",
       "      <th>pos_tag</th>\n",
       "      <th>ezafe_tag</th>\n",
       "    </tr>\n",
       "  </thead>\n",
       "  <tbody>\n",
       "    <tr>\n",
       "      <th>0</th>\n",
       "      <td>!هنری!</td>\n",
       "      <td>SUBJ</td>\n",
       "      <td>0</td>\n",
       "    </tr>\n",
       "    <tr>\n",
       "      <th>1</th>\n",
       "      <td>#</td>\n",
       "      <td>DELM</td>\n",
       "      <td>0</td>\n",
       "    </tr>\n",
       "    <tr>\n",
       "      <th>2</th>\n",
       "      <td>مسعود</td>\n",
       "      <td>N_SING_PR</td>\n",
       "      <td>1</td>\n",
       "    </tr>\n",
       "    <tr>\n",
       "      <th>3</th>\n",
       "      <td>شجاعی</td>\n",
       "      <td>N_SING_PR</td>\n",
       "      <td>1</td>\n",
       "    </tr>\n",
       "    <tr>\n",
       "      <th>4</th>\n",
       "      <td>طباطبایی</td>\n",
       "      <td>N_SING_PR</td>\n",
       "      <td>0</td>\n",
       "    </tr>\n",
       "  </tbody>\n",
       "</table>\n",
       "</div>"
      ],
      "text/plain": [
       "      token    pos_tag  ezafe_tag\n",
       "0    !هنری!       SUBJ          0\n",
       "1         #       DELM          0\n",
       "2     مسعود  N_SING_PR          1\n",
       "3     شجاعی  N_SING_PR          1\n",
       "4  طباطبایی  N_SING_PR          0"
      ]
     },
     "execution_count": 2,
     "metadata": {},
     "output_type": "execute_result"
    }
   ],
   "source": [
    "df = pd.read_csv(\"updated_bijankhan_corpus.csv\")\n",
    "df: pd.DataFrame\n",
    "\n",
    "del df['Unnamed: 0']\n",
    "df.head()"
   ]
  },
  {
   "cell_type": "markdown",
   "id": "9dcfc9ab",
   "metadata": {},
   "source": [
    "As you can see, our dataset consists of 3 columns. 'label' column is the one I should predict based on 'part_of_speech' and 'word' columns."
   ]
  },
  {
   "cell_type": "markdown",
   "id": "9939ee66",
   "metadata": {},
   "source": [
    "Trying to construct new features and improving the prediction, I **added a few columns** as follows:"
   ]
  },
  {
   "cell_type": "code",
   "execution_count": 3,
   "id": "ac6e9977",
   "metadata": {},
   "outputs": [],
   "source": [
    "st = PersianStemmer()"
   ]
  },
  {
   "cell_type": "markdown",
   "id": "bd881078",
   "metadata": {},
   "source": [
    "This function finds the **length of the prefix** of each word in the dataset:"
   ]
  },
  {
   "cell_type": "code",
   "execution_count": 4,
   "id": "13b2ec77",
   "metadata": {},
   "outputs": [],
   "source": [
    "def prefix_length(word):\n",
    "    stemming = st.run(word)\n",
    "    if len(stemming) != len(word):\n",
    "        if word.endswith(stemming) and len(stemming) > 0:\n",
    "            split = word.split(stemming)\n",
    "            return len(split[0])\n",
    "        else:\n",
    "            return 0\n",
    "    else:\n",
    "        return 0"
   ]
  },
  {
   "cell_type": "markdown",
   "id": "df94b8ad",
   "metadata": {},
   "source": [
    "Now I add a new column as follows:"
   ]
  },
  {
   "cell_type": "code",
   "execution_count": 5,
   "id": "49acb28d",
   "metadata": {},
   "outputs": [
    {
     "data": {
      "text/html": [
       "<div>\n",
       "<style scoped>\n",
       "    .dataframe tbody tr th:only-of-type {\n",
       "        vertical-align: middle;\n",
       "    }\n",
       "\n",
       "    .dataframe tbody tr th {\n",
       "        vertical-align: top;\n",
       "    }\n",
       "\n",
       "    .dataframe thead th {\n",
       "        text-align: right;\n",
       "    }\n",
       "</style>\n",
       "<table border=\"1\" class=\"dataframe\">\n",
       "  <thead>\n",
       "    <tr style=\"text-align: right;\">\n",
       "      <th></th>\n",
       "      <th>token</th>\n",
       "      <th>pos_tag</th>\n",
       "      <th>ezafe_tag</th>\n",
       "      <th>prefix_length</th>\n",
       "    </tr>\n",
       "  </thead>\n",
       "  <tbody>\n",
       "    <tr>\n",
       "      <th>0</th>\n",
       "      <td>!هنری!</td>\n",
       "      <td>SUBJ</td>\n",
       "      <td>0</td>\n",
       "      <td>0</td>\n",
       "    </tr>\n",
       "    <tr>\n",
       "      <th>1</th>\n",
       "      <td>#</td>\n",
       "      <td>DELM</td>\n",
       "      <td>0</td>\n",
       "      <td>0</td>\n",
       "    </tr>\n",
       "    <tr>\n",
       "      <th>2</th>\n",
       "      <td>مسعود</td>\n",
       "      <td>N_SING_PR</td>\n",
       "      <td>1</td>\n",
       "      <td>0</td>\n",
       "    </tr>\n",
       "    <tr>\n",
       "      <th>3</th>\n",
       "      <td>شجاعی</td>\n",
       "      <td>N_SING_PR</td>\n",
       "      <td>1</td>\n",
       "      <td>0</td>\n",
       "    </tr>\n",
       "    <tr>\n",
       "      <th>4</th>\n",
       "      <td>طباطبایی</td>\n",
       "      <td>N_SING_PR</td>\n",
       "      <td>0</td>\n",
       "      <td>0</td>\n",
       "    </tr>\n",
       "  </tbody>\n",
       "</table>\n",
       "</div>"
      ],
      "text/plain": [
       "      token    pos_tag  ezafe_tag  prefix_length\n",
       "0    !هنری!       SUBJ          0              0\n",
       "1         #       DELM          0              0\n",
       "2     مسعود  N_SING_PR          1              0\n",
       "3     شجاعی  N_SING_PR          1              0\n",
       "4  طباطبایی  N_SING_PR          0              0"
      ]
     },
     "execution_count": 5,
     "metadata": {},
     "output_type": "execute_result"
    }
   ],
   "source": [
    "df[\"prefix_length\"] = df['token'].apply(prefix_length)\n",
    "df.head()"
   ]
  },
  {
   "cell_type": "markdown",
   "id": "a23bdeae",
   "metadata": {},
   "source": [
    "Info of newly added column:"
   ]
  },
  {
   "cell_type": "code",
   "execution_count": 6,
   "id": "0e152874",
   "metadata": {},
   "outputs": [
    {
     "data": {
      "text/plain": [
       "0    2602340\n",
       "1        163\n",
       "2         33\n",
       "Name: prefix_length, dtype: int64"
      ]
     },
     "execution_count": 6,
     "metadata": {},
     "output_type": "execute_result"
    }
   ],
   "source": [
    "df[\"prefix_length\"].value_counts()"
   ]
  },
  {
   "cell_type": "markdown",
   "id": "8ffeeae2",
   "metadata": {},
   "source": [
    "Now I add a new column which includes the **length of suffixes** of each word."
   ]
  },
  {
   "cell_type": "code",
   "execution_count": 7,
   "id": "492fe447",
   "metadata": {},
   "outputs": [],
   "source": [
    "def suffix_length(word):\n",
    "    stemming = st.run(word)\n",
    "    if len(stemming) != len(word):\n",
    "        if word.endswith(stemming) and len(stemming) > 0:\n",
    "            split = word.split(stemming)\n",
    "            return len(split[1])\n",
    "        else:\n",
    "            return 0\n",
    "    else:\n",
    "        return 0"
   ]
  },
  {
   "cell_type": "code",
   "execution_count": 8,
   "id": "9e145ab1",
   "metadata": {},
   "outputs": [
    {
     "data": {
      "text/html": [
       "<div>\n",
       "<style scoped>\n",
       "    .dataframe tbody tr th:only-of-type {\n",
       "        vertical-align: middle;\n",
       "    }\n",
       "\n",
       "    .dataframe tbody tr th {\n",
       "        vertical-align: top;\n",
       "    }\n",
       "\n",
       "    .dataframe thead th {\n",
       "        text-align: right;\n",
       "    }\n",
       "</style>\n",
       "<table border=\"1\" class=\"dataframe\">\n",
       "  <thead>\n",
       "    <tr style=\"text-align: right;\">\n",
       "      <th></th>\n",
       "      <th>token</th>\n",
       "      <th>pos_tag</th>\n",
       "      <th>ezafe_tag</th>\n",
       "      <th>prefix_length</th>\n",
       "      <th>suffix_length</th>\n",
       "    </tr>\n",
       "  </thead>\n",
       "  <tbody>\n",
       "    <tr>\n",
       "      <th>0</th>\n",
       "      <td>!هنری!</td>\n",
       "      <td>SUBJ</td>\n",
       "      <td>0</td>\n",
       "      <td>0</td>\n",
       "      <td>0</td>\n",
       "    </tr>\n",
       "    <tr>\n",
       "      <th>1</th>\n",
       "      <td>#</td>\n",
       "      <td>DELM</td>\n",
       "      <td>0</td>\n",
       "      <td>0</td>\n",
       "      <td>0</td>\n",
       "    </tr>\n",
       "    <tr>\n",
       "      <th>2</th>\n",
       "      <td>مسعود</td>\n",
       "      <td>N_SING_PR</td>\n",
       "      <td>1</td>\n",
       "      <td>0</td>\n",
       "      <td>0</td>\n",
       "    </tr>\n",
       "    <tr>\n",
       "      <th>3</th>\n",
       "      <td>شجاعی</td>\n",
       "      <td>N_SING_PR</td>\n",
       "      <td>1</td>\n",
       "      <td>0</td>\n",
       "      <td>0</td>\n",
       "    </tr>\n",
       "    <tr>\n",
       "      <th>4</th>\n",
       "      <td>طباطبایی</td>\n",
       "      <td>N_SING_PR</td>\n",
       "      <td>0</td>\n",
       "      <td>0</td>\n",
       "      <td>0</td>\n",
       "    </tr>\n",
       "  </tbody>\n",
       "</table>\n",
       "</div>"
      ],
      "text/plain": [
       "      token    pos_tag  ezafe_tag  prefix_length  suffix_length\n",
       "0    !هنری!       SUBJ          0              0              0\n",
       "1         #       DELM          0              0              0\n",
       "2     مسعود  N_SING_PR          1              0              0\n",
       "3     شجاعی  N_SING_PR          1              0              0\n",
       "4  طباطبایی  N_SING_PR          0              0              0"
      ]
     },
     "execution_count": 8,
     "metadata": {},
     "output_type": "execute_result"
    }
   ],
   "source": [
    "df[\"suffix_length\"] = df['token'].apply(suffix_length)\n",
    "df.head()"
   ]
  },
  {
   "cell_type": "markdown",
   "id": "7c11ee1f",
   "metadata": {},
   "source": [
    "Newly added data:"
   ]
  },
  {
   "cell_type": "code",
   "execution_count": 9,
   "id": "1883dee1",
   "metadata": {},
   "outputs": [
    {
     "data": {
      "text/plain": [
       "0    2602340\n",
       "1        163\n",
       "2         33\n",
       "Name: prefix_length, dtype: int64"
      ]
     },
     "execution_count": 9,
     "metadata": {},
     "output_type": "execute_result"
    }
   ],
   "source": [
    "df[\"prefix_length\"].value_counts()"
   ]
  },
  {
   "cell_type": "markdown",
   "id": "74868c5d",
   "metadata": {},
   "source": [
    "The next feature that, in my opinion, can **help the model** is as follows:"
   ]
  },
  {
   "cell_type": "code",
   "execution_count": 10,
   "id": "a4622147",
   "metadata": {},
   "outputs": [],
   "source": [
    "def zamir_find(word):\n",
    "    suffixes = [ \"م\", \"ت\", \"ش\", \"مان\", \"تان\", \"شان\"]\n",
    "    stemming = st.run(word)\n",
    "    if suffix_length(word)>0 and len(stemming)>0:\n",
    "        suffix = word.split(stemming[1])\n",
    "        suffix[1].replace(\" \", \"\")\n",
    "        if suffix[1] in suffixes:\n",
    "            return 1\n",
    "    return 0 "
   ]
  },
  {
   "cell_type": "code",
   "execution_count": 11,
   "id": "607f9d3a",
   "metadata": {},
   "outputs": [
    {
     "data": {
      "text/html": [
       "<div>\n",
       "<style scoped>\n",
       "    .dataframe tbody tr th:only-of-type {\n",
       "        vertical-align: middle;\n",
       "    }\n",
       "\n",
       "    .dataframe tbody tr th {\n",
       "        vertical-align: top;\n",
       "    }\n",
       "\n",
       "    .dataframe thead th {\n",
       "        text-align: right;\n",
       "    }\n",
       "</style>\n",
       "<table border=\"1\" class=\"dataframe\">\n",
       "  <thead>\n",
       "    <tr style=\"text-align: right;\">\n",
       "      <th></th>\n",
       "      <th>token</th>\n",
       "      <th>pos_tag</th>\n",
       "      <th>ezafe_tag</th>\n",
       "      <th>prefix_length</th>\n",
       "      <th>suffix_length</th>\n",
       "      <th>zamir_find</th>\n",
       "    </tr>\n",
       "  </thead>\n",
       "  <tbody>\n",
       "    <tr>\n",
       "      <th>0</th>\n",
       "      <td>!هنری!</td>\n",
       "      <td>SUBJ</td>\n",
       "      <td>0</td>\n",
       "      <td>0</td>\n",
       "      <td>0</td>\n",
       "      <td>0</td>\n",
       "    </tr>\n",
       "    <tr>\n",
       "      <th>1</th>\n",
       "      <td>#</td>\n",
       "      <td>DELM</td>\n",
       "      <td>0</td>\n",
       "      <td>0</td>\n",
       "      <td>0</td>\n",
       "      <td>0</td>\n",
       "    </tr>\n",
       "    <tr>\n",
       "      <th>2</th>\n",
       "      <td>مسعود</td>\n",
       "      <td>N_SING_PR</td>\n",
       "      <td>1</td>\n",
       "      <td>0</td>\n",
       "      <td>0</td>\n",
       "      <td>0</td>\n",
       "    </tr>\n",
       "    <tr>\n",
       "      <th>3</th>\n",
       "      <td>شجاعی</td>\n",
       "      <td>N_SING_PR</td>\n",
       "      <td>1</td>\n",
       "      <td>0</td>\n",
       "      <td>0</td>\n",
       "      <td>0</td>\n",
       "    </tr>\n",
       "    <tr>\n",
       "      <th>4</th>\n",
       "      <td>طباطبایی</td>\n",
       "      <td>N_SING_PR</td>\n",
       "      <td>0</td>\n",
       "      <td>0</td>\n",
       "      <td>0</td>\n",
       "      <td>0</td>\n",
       "    </tr>\n",
       "  </tbody>\n",
       "</table>\n",
       "</div>"
      ],
      "text/plain": [
       "      token    pos_tag  ezafe_tag  prefix_length  suffix_length  zamir_find\n",
       "0    !هنری!       SUBJ          0              0              0           0\n",
       "1         #       DELM          0              0              0           0\n",
       "2     مسعود  N_SING_PR          1              0              0           0\n",
       "3     شجاعی  N_SING_PR          1              0              0           0\n",
       "4  طباطبایی  N_SING_PR          0              0              0           0"
      ]
     },
     "execution_count": 11,
     "metadata": {},
     "output_type": "execute_result"
    }
   ],
   "source": [
    "df[\"zamir_find\"] = df['token'].apply(zamir_find)\n",
    "df.head()"
   ]
  },
  {
   "cell_type": "code",
   "execution_count": 12,
   "id": "b4a6119d",
   "metadata": {},
   "outputs": [
    {
     "data": {
      "text/plain": [
       "0    2602536\n",
       "Name: zamir_find, dtype: int64"
      ]
     },
     "execution_count": 12,
     "metadata": {},
     "output_type": "execute_result"
    }
   ],
   "source": [
    "df[\"zamir_find\"].value_counts()"
   ]
  },
  {
   "cell_type": "markdown",
   "id": "8fa5c4dc",
   "metadata": {},
   "source": [
    "As you can see **all values of this column are zero**, so that it wouldn't help and I **drop** it."
   ]
  },
  {
   "cell_type": "code",
   "execution_count": 13,
   "id": "72799612",
   "metadata": {},
   "outputs": [
    {
     "data": {
      "text/html": [
       "<div>\n",
       "<style scoped>\n",
       "    .dataframe tbody tr th:only-of-type {\n",
       "        vertical-align: middle;\n",
       "    }\n",
       "\n",
       "    .dataframe tbody tr th {\n",
       "        vertical-align: top;\n",
       "    }\n",
       "\n",
       "    .dataframe thead th {\n",
       "        text-align: right;\n",
       "    }\n",
       "</style>\n",
       "<table border=\"1\" class=\"dataframe\">\n",
       "  <thead>\n",
       "    <tr style=\"text-align: right;\">\n",
       "      <th></th>\n",
       "      <th>token</th>\n",
       "      <th>pos_tag</th>\n",
       "      <th>ezafe_tag</th>\n",
       "      <th>prefix_length</th>\n",
       "      <th>suffix_length</th>\n",
       "    </tr>\n",
       "  </thead>\n",
       "  <tbody>\n",
       "    <tr>\n",
       "      <th>0</th>\n",
       "      <td>!هنری!</td>\n",
       "      <td>SUBJ</td>\n",
       "      <td>0</td>\n",
       "      <td>0</td>\n",
       "      <td>0</td>\n",
       "    </tr>\n",
       "    <tr>\n",
       "      <th>1</th>\n",
       "      <td>#</td>\n",
       "      <td>DELM</td>\n",
       "      <td>0</td>\n",
       "      <td>0</td>\n",
       "      <td>0</td>\n",
       "    </tr>\n",
       "    <tr>\n",
       "      <th>2</th>\n",
       "      <td>مسعود</td>\n",
       "      <td>N_SING_PR</td>\n",
       "      <td>1</td>\n",
       "      <td>0</td>\n",
       "      <td>0</td>\n",
       "    </tr>\n",
       "    <tr>\n",
       "      <th>3</th>\n",
       "      <td>شجاعی</td>\n",
       "      <td>N_SING_PR</td>\n",
       "      <td>1</td>\n",
       "      <td>0</td>\n",
       "      <td>0</td>\n",
       "    </tr>\n",
       "    <tr>\n",
       "      <th>4</th>\n",
       "      <td>طباطبایی</td>\n",
       "      <td>N_SING_PR</td>\n",
       "      <td>0</td>\n",
       "      <td>0</td>\n",
       "      <td>0</td>\n",
       "    </tr>\n",
       "  </tbody>\n",
       "</table>\n",
       "</div>"
      ],
      "text/plain": [
       "      token    pos_tag  ezafe_tag  prefix_length  suffix_length\n",
       "0    !هنری!       SUBJ          0              0              0\n",
       "1         #       DELM          0              0              0\n",
       "2     مسعود  N_SING_PR          1              0              0\n",
       "3     شجاعی  N_SING_PR          1              0              0\n",
       "4  طباطبایی  N_SING_PR          0              0              0"
      ]
     },
     "execution_count": 13,
     "metadata": {},
     "output_type": "execute_result"
    }
   ],
   "source": [
    "df.drop('zamir_find', axis=1, inplace=True)\n",
    "df.head()"
   ]
  },
  {
   "cell_type": "markdown",
   "id": "a81acfb5",
   "metadata": {},
   "source": [
    "Now I find words in **superlative, comparative ,and plural** forms as follows:"
   ]
  },
  {
   "cell_type": "code",
   "execution_count": 14,
   "id": "a06ee77b",
   "metadata": {},
   "outputs": [],
   "source": [
    "def Comparative_Superlative_find(word):\n",
    "    suffixes = [ \"ترین\", \"تر\", \"ها\"]\n",
    "    stemming = st.run(word)\n",
    "    if suffix_length(word)>0 and len(stemming)>0:\n",
    "        suffix = word.split(stemming[1])\n",
    "        suffix[1].replace(\" \", \"\")\n",
    "        if suffix[1] in suffixes:\n",
    "            return 1\n",
    "    return 0 "
   ]
  },
  {
   "cell_type": "code",
   "execution_count": 15,
   "id": "377c1bc2",
   "metadata": {},
   "outputs": [
    {
     "data": {
      "text/html": [
       "<div>\n",
       "<style scoped>\n",
       "    .dataframe tbody tr th:only-of-type {\n",
       "        vertical-align: middle;\n",
       "    }\n",
       "\n",
       "    .dataframe tbody tr th {\n",
       "        vertical-align: top;\n",
       "    }\n",
       "\n",
       "    .dataframe thead th {\n",
       "        text-align: right;\n",
       "    }\n",
       "</style>\n",
       "<table border=\"1\" class=\"dataframe\">\n",
       "  <thead>\n",
       "    <tr style=\"text-align: right;\">\n",
       "      <th></th>\n",
       "      <th>token</th>\n",
       "      <th>pos_tag</th>\n",
       "      <th>ezafe_tag</th>\n",
       "      <th>prefix_length</th>\n",
       "      <th>suffix_length</th>\n",
       "      <th>c_s_find</th>\n",
       "    </tr>\n",
       "  </thead>\n",
       "  <tbody>\n",
       "    <tr>\n",
       "      <th>0</th>\n",
       "      <td>!هنری!</td>\n",
       "      <td>SUBJ</td>\n",
       "      <td>0</td>\n",
       "      <td>0</td>\n",
       "      <td>0</td>\n",
       "      <td>0</td>\n",
       "    </tr>\n",
       "    <tr>\n",
       "      <th>1</th>\n",
       "      <td>#</td>\n",
       "      <td>DELM</td>\n",
       "      <td>0</td>\n",
       "      <td>0</td>\n",
       "      <td>0</td>\n",
       "      <td>0</td>\n",
       "    </tr>\n",
       "    <tr>\n",
       "      <th>2</th>\n",
       "      <td>مسعود</td>\n",
       "      <td>N_SING_PR</td>\n",
       "      <td>1</td>\n",
       "      <td>0</td>\n",
       "      <td>0</td>\n",
       "      <td>0</td>\n",
       "    </tr>\n",
       "    <tr>\n",
       "      <th>3</th>\n",
       "      <td>شجاعی</td>\n",
       "      <td>N_SING_PR</td>\n",
       "      <td>1</td>\n",
       "      <td>0</td>\n",
       "      <td>0</td>\n",
       "      <td>0</td>\n",
       "    </tr>\n",
       "    <tr>\n",
       "      <th>4</th>\n",
       "      <td>طباطبایی</td>\n",
       "      <td>N_SING_PR</td>\n",
       "      <td>0</td>\n",
       "      <td>0</td>\n",
       "      <td>0</td>\n",
       "      <td>0</td>\n",
       "    </tr>\n",
       "  </tbody>\n",
       "</table>\n",
       "</div>"
      ],
      "text/plain": [
       "      token    pos_tag  ezafe_tag  prefix_length  suffix_length  c_s_find\n",
       "0    !هنری!       SUBJ          0              0              0         0\n",
       "1         #       DELM          0              0              0         0\n",
       "2     مسعود  N_SING_PR          1              0              0         0\n",
       "3     شجاعی  N_SING_PR          1              0              0         0\n",
       "4  طباطبایی  N_SING_PR          0              0              0         0"
      ]
     },
     "execution_count": 15,
     "metadata": {},
     "output_type": "execute_result"
    }
   ],
   "source": [
    "df[\"c_s_find\"] = df['token'].apply(Comparative_Superlative_find)\n",
    "df.head()"
   ]
  },
  {
   "cell_type": "code",
   "execution_count": 16,
   "id": "6e80a2c4",
   "metadata": {},
   "outputs": [
    {
     "data": {
      "text/plain": [
       "0    2602536\n",
       "Name: c_s_find, dtype: int64"
      ]
     },
     "execution_count": 16,
     "metadata": {},
     "output_type": "execute_result"
    }
   ],
   "source": [
    "df[\"c_s_find\"].value_counts()"
   ]
  },
  {
   "cell_type": "markdown",
   "id": "02180a45",
   "metadata": {},
   "source": [
    "All values are zero, so I **drop** this column as well."
   ]
  },
  {
   "cell_type": "code",
   "execution_count": 17,
   "id": "0ae8904d",
   "metadata": {},
   "outputs": [
    {
     "data": {
      "text/html": [
       "<div>\n",
       "<style scoped>\n",
       "    .dataframe tbody tr th:only-of-type {\n",
       "        vertical-align: middle;\n",
       "    }\n",
       "\n",
       "    .dataframe tbody tr th {\n",
       "        vertical-align: top;\n",
       "    }\n",
       "\n",
       "    .dataframe thead th {\n",
       "        text-align: right;\n",
       "    }\n",
       "</style>\n",
       "<table border=\"1\" class=\"dataframe\">\n",
       "  <thead>\n",
       "    <tr style=\"text-align: right;\">\n",
       "      <th></th>\n",
       "      <th>token</th>\n",
       "      <th>pos_tag</th>\n",
       "      <th>ezafe_tag</th>\n",
       "      <th>prefix_length</th>\n",
       "      <th>suffix_length</th>\n",
       "    </tr>\n",
       "  </thead>\n",
       "  <tbody>\n",
       "    <tr>\n",
       "      <th>0</th>\n",
       "      <td>!هنری!</td>\n",
       "      <td>SUBJ</td>\n",
       "      <td>0</td>\n",
       "      <td>0</td>\n",
       "      <td>0</td>\n",
       "    </tr>\n",
       "    <tr>\n",
       "      <th>1</th>\n",
       "      <td>#</td>\n",
       "      <td>DELM</td>\n",
       "      <td>0</td>\n",
       "      <td>0</td>\n",
       "      <td>0</td>\n",
       "    </tr>\n",
       "    <tr>\n",
       "      <th>2</th>\n",
       "      <td>مسعود</td>\n",
       "      <td>N_SING_PR</td>\n",
       "      <td>1</td>\n",
       "      <td>0</td>\n",
       "      <td>0</td>\n",
       "    </tr>\n",
       "    <tr>\n",
       "      <th>3</th>\n",
       "      <td>شجاعی</td>\n",
       "      <td>N_SING_PR</td>\n",
       "      <td>1</td>\n",
       "      <td>0</td>\n",
       "      <td>0</td>\n",
       "    </tr>\n",
       "    <tr>\n",
       "      <th>4</th>\n",
       "      <td>طباطبایی</td>\n",
       "      <td>N_SING_PR</td>\n",
       "      <td>0</td>\n",
       "      <td>0</td>\n",
       "      <td>0</td>\n",
       "    </tr>\n",
       "  </tbody>\n",
       "</table>\n",
       "</div>"
      ],
      "text/plain": [
       "      token    pos_tag  ezafe_tag  prefix_length  suffix_length\n",
       "0    !هنری!       SUBJ          0              0              0\n",
       "1         #       DELM          0              0              0\n",
       "2     مسعود  N_SING_PR          1              0              0\n",
       "3     شجاعی  N_SING_PR          1              0              0\n",
       "4  طباطبایی  N_SING_PR          0              0              0"
      ]
     },
     "execution_count": 17,
     "metadata": {},
     "output_type": "execute_result"
    }
   ],
   "source": [
    "df.drop('c_s_find', axis=1, inplace=True)\n",
    "df.head()"
   ]
  },
  {
   "cell_type": "markdown",
   "id": "5d7a9b89",
   "metadata": {},
   "source": [
    "The next feature that may effect the prediction can be the **ending character** of each word."
   ]
  },
  {
   "cell_type": "code",
   "execution_count": 18,
   "id": "6f3fbfd5",
   "metadata": {},
   "outputs": [],
   "source": [
    "def end_word(word):\n",
    "    l = len(word) - 1\n",
    "    w = \"!@#$%^&*()1234567890-=+?/\\<>.,;':'\"\n",
    "    for i in range(l, -1, -1):\n",
    "        if word[i] not in w:\n",
    "            return word[i]\n",
    "    return \"none\""
   ]
  },
  {
   "cell_type": "code",
   "execution_count": 19,
   "id": "820f4aaf",
   "metadata": {},
   "outputs": [
    {
     "data": {
      "text/html": [
       "<div>\n",
       "<style scoped>\n",
       "    .dataframe tbody tr th:only-of-type {\n",
       "        vertical-align: middle;\n",
       "    }\n",
       "\n",
       "    .dataframe tbody tr th {\n",
       "        vertical-align: top;\n",
       "    }\n",
       "\n",
       "    .dataframe thead th {\n",
       "        text-align: right;\n",
       "    }\n",
       "</style>\n",
       "<table border=\"1\" class=\"dataframe\">\n",
       "  <thead>\n",
       "    <tr style=\"text-align: right;\">\n",
       "      <th></th>\n",
       "      <th>token</th>\n",
       "      <th>pos_tag</th>\n",
       "      <th>ezafe_tag</th>\n",
       "      <th>prefix_length</th>\n",
       "      <th>suffix_length</th>\n",
       "      <th>ends_with</th>\n",
       "    </tr>\n",
       "  </thead>\n",
       "  <tbody>\n",
       "    <tr>\n",
       "      <th>0</th>\n",
       "      <td>!هنری!</td>\n",
       "      <td>SUBJ</td>\n",
       "      <td>0</td>\n",
       "      <td>0</td>\n",
       "      <td>0</td>\n",
       "      <td>ی</td>\n",
       "    </tr>\n",
       "    <tr>\n",
       "      <th>1</th>\n",
       "      <td>#</td>\n",
       "      <td>DELM</td>\n",
       "      <td>0</td>\n",
       "      <td>0</td>\n",
       "      <td>0</td>\n",
       "      <td>none</td>\n",
       "    </tr>\n",
       "    <tr>\n",
       "      <th>2</th>\n",
       "      <td>مسعود</td>\n",
       "      <td>N_SING_PR</td>\n",
       "      <td>1</td>\n",
       "      <td>0</td>\n",
       "      <td>0</td>\n",
       "      <td>د</td>\n",
       "    </tr>\n",
       "    <tr>\n",
       "      <th>3</th>\n",
       "      <td>شجاعی</td>\n",
       "      <td>N_SING_PR</td>\n",
       "      <td>1</td>\n",
       "      <td>0</td>\n",
       "      <td>0</td>\n",
       "      <td>ی</td>\n",
       "    </tr>\n",
       "    <tr>\n",
       "      <th>4</th>\n",
       "      <td>طباطبایی</td>\n",
       "      <td>N_SING_PR</td>\n",
       "      <td>0</td>\n",
       "      <td>0</td>\n",
       "      <td>0</td>\n",
       "      <td>ی</td>\n",
       "    </tr>\n",
       "  </tbody>\n",
       "</table>\n",
       "</div>"
      ],
      "text/plain": [
       "      token    pos_tag  ezafe_tag  prefix_length  suffix_length ends_with\n",
       "0    !هنری!       SUBJ          0              0              0         ی\n",
       "1         #       DELM          0              0              0      none\n",
       "2     مسعود  N_SING_PR          1              0              0         د\n",
       "3     شجاعی  N_SING_PR          1              0              0         ی\n",
       "4  طباطبایی  N_SING_PR          0              0              0         ی"
      ]
     },
     "execution_count": 19,
     "metadata": {},
     "output_type": "execute_result"
    }
   ],
   "source": [
    "df[\"ends_with\"] = df['token'].apply(end_word)\n",
    "df.head()"
   ]
  },
  {
   "cell_type": "markdown",
   "id": "aecdba0f",
   "metadata": {},
   "source": [
    "#### Converting categorical data to numerical:"
   ]
  },
  {
   "cell_type": "code",
   "execution_count": 20,
   "id": "40023e5b",
   "metadata": {},
   "outputs": [
    {
     "data": {
      "text/plain": [
       "N_SING_COM         636812\n",
       "P_GENR             281880\n",
       "DELM               256489\n",
       "ADJ_SIM            220353\n",
       "N_PL_COM           139962\n",
       "                    ...  \n",
       "V_AUX_INF_PPF_2         1\n",
       "V_AUX_INF_NPF_2         1\n",
       "V_AUX_INF_NPS           1\n",
       "V_PRS_PCAU_4            1\n",
       "N_PL_LOC_PAFF_4         1\n",
       "Name: pos_tag, Length: 482, dtype: int64"
      ]
     },
     "execution_count": 20,
     "metadata": {},
     "output_type": "execute_result"
    }
   ],
   "source": [
    "df[\"pos_tag\"].value_counts()"
   ]
  },
  {
   "cell_type": "markdown",
   "id": "dcc8788b",
   "metadata": {},
   "source": [
    "Conversion of 'part_of_speech' column:"
   ]
  },
  {
   "cell_type": "code",
   "execution_count": 21,
   "id": "d03eaeab",
   "metadata": {},
   "outputs": [
    {
     "data": {
      "text/html": [
       "<div>\n",
       "<style scoped>\n",
       "    .dataframe tbody tr th:only-of-type {\n",
       "        vertical-align: middle;\n",
       "    }\n",
       "\n",
       "    .dataframe tbody tr th {\n",
       "        vertical-align: top;\n",
       "    }\n",
       "\n",
       "    .dataframe thead th {\n",
       "        text-align: right;\n",
       "    }\n",
       "</style>\n",
       "<table border=\"1\" class=\"dataframe\">\n",
       "  <thead>\n",
       "    <tr style=\"text-align: right;\">\n",
       "      <th></th>\n",
       "      <th>token</th>\n",
       "      <th>pos_tag</th>\n",
       "      <th>ezafe_tag</th>\n",
       "      <th>prefix_length</th>\n",
       "      <th>suffix_length</th>\n",
       "      <th>ends_with</th>\n",
       "    </tr>\n",
       "  </thead>\n",
       "  <tbody>\n",
       "    <tr>\n",
       "      <th>0</th>\n",
       "      <td>!هنری!</td>\n",
       "      <td>248</td>\n",
       "      <td>0</td>\n",
       "      <td>0</td>\n",
       "      <td>0</td>\n",
       "      <td>ی</td>\n",
       "    </tr>\n",
       "    <tr>\n",
       "      <th>1</th>\n",
       "      <td>#</td>\n",
       "      <td>65</td>\n",
       "      <td>0</td>\n",
       "      <td>0</td>\n",
       "      <td>0</td>\n",
       "      <td>none</td>\n",
       "    </tr>\n",
       "    <tr>\n",
       "      <th>2</th>\n",
       "      <td>مسعود</td>\n",
       "      <td>167</td>\n",
       "      <td>1</td>\n",
       "      <td>0</td>\n",
       "      <td>0</td>\n",
       "      <td>د</td>\n",
       "    </tr>\n",
       "    <tr>\n",
       "      <th>3</th>\n",
       "      <td>شجاعی</td>\n",
       "      <td>167</td>\n",
       "      <td>1</td>\n",
       "      <td>0</td>\n",
       "      <td>0</td>\n",
       "      <td>ی</td>\n",
       "    </tr>\n",
       "    <tr>\n",
       "      <th>4</th>\n",
       "      <td>طباطبایی</td>\n",
       "      <td>167</td>\n",
       "      <td>0</td>\n",
       "      <td>0</td>\n",
       "      <td>0</td>\n",
       "      <td>ی</td>\n",
       "    </tr>\n",
       "  </tbody>\n",
       "</table>\n",
       "</div>"
      ],
      "text/plain": [
       "      token  pos_tag  ezafe_tag  prefix_length  suffix_length ends_with\n",
       "0    !هنری!      248          0              0              0         ی\n",
       "1         #       65          0              0              0      none\n",
       "2     مسعود      167          1              0              0         د\n",
       "3     شجاعی      167          1              0              0         ی\n",
       "4  طباطبایی      167          0              0              0         ی"
      ]
     },
     "execution_count": 21,
     "metadata": {},
     "output_type": "execute_result"
    }
   ],
   "source": [
    "label_encoder = preprocessing.LabelEncoder()\n",
    "# Encode labels in column 'part_of_speech'. \n",
    "df['pos_tag']= label_encoder.fit_transform(df['pos_tag']) \n",
    "df.head()"
   ]
  },
  {
   "cell_type": "markdown",
   "id": "a3b0d51a",
   "metadata": {},
   "source": [
    "Conversion of 'ends_with' column:"
   ]
  },
  {
   "cell_type": "code",
   "execution_count": 22,
   "id": "e63dacee",
   "metadata": {},
   "outputs": [
    {
     "data": {
      "text/html": [
       "<div>\n",
       "<style scoped>\n",
       "    .dataframe tbody tr th:only-of-type {\n",
       "        vertical-align: middle;\n",
       "    }\n",
       "\n",
       "    .dataframe tbody tr th {\n",
       "        vertical-align: top;\n",
       "    }\n",
       "\n",
       "    .dataframe thead th {\n",
       "        text-align: right;\n",
       "    }\n",
       "</style>\n",
       "<table border=\"1\" class=\"dataframe\">\n",
       "  <thead>\n",
       "    <tr style=\"text-align: right;\">\n",
       "      <th></th>\n",
       "      <th>token</th>\n",
       "      <th>pos_tag</th>\n",
       "      <th>ezafe_tag</th>\n",
       "      <th>prefix_length</th>\n",
       "      <th>suffix_length</th>\n",
       "      <th>ends_with</th>\n",
       "    </tr>\n",
       "  </thead>\n",
       "  <tbody>\n",
       "    <tr>\n",
       "      <th>0</th>\n",
       "      <td>!هنری!</td>\n",
       "      <td>248</td>\n",
       "      <td>0</td>\n",
       "      <td>0</td>\n",
       "      <td>0</td>\n",
       "      <td>105</td>\n",
       "    </tr>\n",
       "    <tr>\n",
       "      <th>1</th>\n",
       "      <td>#</td>\n",
       "      <td>65</td>\n",
       "      <td>0</td>\n",
       "      <td>0</td>\n",
       "      <td>0</td>\n",
       "      <td>43</td>\n",
       "    </tr>\n",
       "    <tr>\n",
       "      <th>2</th>\n",
       "      <td>مسعود</td>\n",
       "      <td>167</td>\n",
       "      <td>1</td>\n",
       "      <td>0</td>\n",
       "      <td>0</td>\n",
       "      <td>72</td>\n",
       "    </tr>\n",
       "    <tr>\n",
       "      <th>3</th>\n",
       "      <td>شجاعی</td>\n",
       "      <td>167</td>\n",
       "      <td>1</td>\n",
       "      <td>0</td>\n",
       "      <td>0</td>\n",
       "      <td>105</td>\n",
       "    </tr>\n",
       "    <tr>\n",
       "      <th>4</th>\n",
       "      <td>طباطبایی</td>\n",
       "      <td>167</td>\n",
       "      <td>0</td>\n",
       "      <td>0</td>\n",
       "      <td>0</td>\n",
       "      <td>105</td>\n",
       "    </tr>\n",
       "  </tbody>\n",
       "</table>\n",
       "</div>"
      ],
      "text/plain": [
       "      token  pos_tag  ezafe_tag  prefix_length  suffix_length  ends_with\n",
       "0    !هنری!      248          0              0              0        105\n",
       "1         #       65          0              0              0         43\n",
       "2     مسعود      167          1              0              0         72\n",
       "3     شجاعی      167          1              0              0        105\n",
       "4  طباطبایی      167          0              0              0        105"
      ]
     },
     "execution_count": 22,
     "metadata": {},
     "output_type": "execute_result"
    }
   ],
   "source": [
    "df[\"ends_with\"].value_counts()\n",
    "\n",
    "# Encode labels in column 'ends_with'. \n",
    "df['ends_with']= label_encoder.fit_transform(df['ends_with']) \n",
    "df.head()"
   ]
  },
  {
   "cell_type": "code",
   "execution_count": 23,
   "id": "4327c11c",
   "metadata": {},
   "outputs": [
    {
     "data": {
      "text/html": [
       "<div>\n",
       "<style scoped>\n",
       "    .dataframe tbody tr th:only-of-type {\n",
       "        vertical-align: middle;\n",
       "    }\n",
       "\n",
       "    .dataframe tbody tr th {\n",
       "        vertical-align: top;\n",
       "    }\n",
       "\n",
       "    .dataframe thead th {\n",
       "        text-align: right;\n",
       "    }\n",
       "</style>\n",
       "<table border=\"1\" class=\"dataframe\">\n",
       "  <thead>\n",
       "    <tr style=\"text-align: right;\">\n",
       "      <th></th>\n",
       "      <th>token</th>\n",
       "      <th>pos_tag</th>\n",
       "      <th>ezafe_tag</th>\n",
       "      <th>prefix_length</th>\n",
       "      <th>suffix_length</th>\n",
       "      <th>ends_with</th>\n",
       "    </tr>\n",
       "  </thead>\n",
       "  <tbody>\n",
       "    <tr>\n",
       "      <th>0</th>\n",
       "      <td>136</td>\n",
       "      <td>248</td>\n",
       "      <td>0</td>\n",
       "      <td>0</td>\n",
       "      <td>0</td>\n",
       "      <td>105</td>\n",
       "    </tr>\n",
       "    <tr>\n",
       "      <th>1</th>\n",
       "      <td>192</td>\n",
       "      <td>65</td>\n",
       "      <td>0</td>\n",
       "      <td>0</td>\n",
       "      <td>0</td>\n",
       "      <td>43</td>\n",
       "    </tr>\n",
       "    <tr>\n",
       "      <th>2</th>\n",
       "      <td>53399</td>\n",
       "      <td>167</td>\n",
       "      <td>1</td>\n",
       "      <td>0</td>\n",
       "      <td>0</td>\n",
       "      <td>72</td>\n",
       "    </tr>\n",
       "    <tr>\n",
       "      <th>3</th>\n",
       "      <td>39644</td>\n",
       "      <td>167</td>\n",
       "      <td>1</td>\n",
       "      <td>0</td>\n",
       "      <td>0</td>\n",
       "      <td>105</td>\n",
       "    </tr>\n",
       "    <tr>\n",
       "      <th>4</th>\n",
       "      <td>42224</td>\n",
       "      <td>167</td>\n",
       "      <td>0</td>\n",
       "      <td>0</td>\n",
       "      <td>0</td>\n",
       "      <td>105</td>\n",
       "    </tr>\n",
       "  </tbody>\n",
       "</table>\n",
       "</div>"
      ],
      "text/plain": [
       "   token  pos_tag  ezafe_tag  prefix_length  suffix_length  ends_with\n",
       "0    136      248          0              0              0        105\n",
       "1    192       65          0              0              0         43\n",
       "2  53399      167          1              0              0         72\n",
       "3  39644      167          1              0              0        105\n",
       "4  42224      167          0              0              0        105"
      ]
     },
     "execution_count": 23,
     "metadata": {},
     "output_type": "execute_result"
    }
   ],
   "source": [
    "df['token']= label_encoder.fit_transform(df['token']) \n",
    "df.head()"
   ]
  },
  {
   "cell_type": "markdown",
   "id": "4be5bf41",
   "metadata": {},
   "source": [
    "There are **two more features** that I think will help the most.\\\n",
    "The **part of speech of the previous word** and the **part of speech of the next word**."
   ]
  },
  {
   "cell_type": "code",
   "execution_count": 24,
   "id": "42551773",
   "metadata": {},
   "outputs": [
    {
     "data": {
      "text/html": [
       "<div>\n",
       "<style scoped>\n",
       "    .dataframe tbody tr th:only-of-type {\n",
       "        vertical-align: middle;\n",
       "    }\n",
       "\n",
       "    .dataframe tbody tr th {\n",
       "        vertical-align: top;\n",
       "    }\n",
       "\n",
       "    .dataframe thead th {\n",
       "        text-align: right;\n",
       "    }\n",
       "</style>\n",
       "<table border=\"1\" class=\"dataframe\">\n",
       "  <thead>\n",
       "    <tr style=\"text-align: right;\">\n",
       "      <th></th>\n",
       "      <th>token</th>\n",
       "      <th>pos_tag</th>\n",
       "      <th>ezafe_tag</th>\n",
       "      <th>prefix_length</th>\n",
       "      <th>suffix_length</th>\n",
       "      <th>ends_with</th>\n",
       "      <th>part_pre_1</th>\n",
       "      <th>part_aft_1</th>\n",
       "      <th>part_pre_2</th>\n",
       "      <th>part_aft_2</th>\n",
       "    </tr>\n",
       "  </thead>\n",
       "  <tbody>\n",
       "    <tr>\n",
       "      <th>0</th>\n",
       "      <td>136</td>\n",
       "      <td>248</td>\n",
       "      <td>0</td>\n",
       "      <td>0</td>\n",
       "      <td>0</td>\n",
       "      <td>105</td>\n",
       "      <td>0</td>\n",
       "      <td>0</td>\n",
       "      <td>0</td>\n",
       "      <td>0</td>\n",
       "    </tr>\n",
       "    <tr>\n",
       "      <th>1</th>\n",
       "      <td>192</td>\n",
       "      <td>65</td>\n",
       "      <td>0</td>\n",
       "      <td>0</td>\n",
       "      <td>0</td>\n",
       "      <td>43</td>\n",
       "      <td>0</td>\n",
       "      <td>0</td>\n",
       "      <td>0</td>\n",
       "      <td>0</td>\n",
       "    </tr>\n",
       "    <tr>\n",
       "      <th>2</th>\n",
       "      <td>53399</td>\n",
       "      <td>167</td>\n",
       "      <td>1</td>\n",
       "      <td>0</td>\n",
       "      <td>0</td>\n",
       "      <td>72</td>\n",
       "      <td>0</td>\n",
       "      <td>0</td>\n",
       "      <td>0</td>\n",
       "      <td>0</td>\n",
       "    </tr>\n",
       "    <tr>\n",
       "      <th>3</th>\n",
       "      <td>39644</td>\n",
       "      <td>167</td>\n",
       "      <td>1</td>\n",
       "      <td>0</td>\n",
       "      <td>0</td>\n",
       "      <td>105</td>\n",
       "      <td>0</td>\n",
       "      <td>0</td>\n",
       "      <td>0</td>\n",
       "      <td>0</td>\n",
       "    </tr>\n",
       "    <tr>\n",
       "      <th>4</th>\n",
       "      <td>42224</td>\n",
       "      <td>167</td>\n",
       "      <td>0</td>\n",
       "      <td>0</td>\n",
       "      <td>0</td>\n",
       "      <td>105</td>\n",
       "      <td>0</td>\n",
       "      <td>0</td>\n",
       "      <td>0</td>\n",
       "      <td>0</td>\n",
       "    </tr>\n",
       "  </tbody>\n",
       "</table>\n",
       "</div>"
      ],
      "text/plain": [
       "   token  pos_tag  ezafe_tag  prefix_length  suffix_length  ends_with  \\\n",
       "0    136      248          0              0              0        105   \n",
       "1    192       65          0              0              0         43   \n",
       "2  53399      167          1              0              0         72   \n",
       "3  39644      167          1              0              0        105   \n",
       "4  42224      167          0              0              0        105   \n",
       "\n",
       "   part_pre_1  part_aft_1  part_pre_2  part_aft_2  \n",
       "0           0           0           0           0  \n",
       "1           0           0           0           0  \n",
       "2           0           0           0           0  \n",
       "3           0           0           0           0  \n",
       "4           0           0           0           0  "
      ]
     },
     "execution_count": 24,
     "metadata": {},
     "output_type": "execute_result"
    }
   ],
   "source": [
    "df[\"part_pre_1\"] = 0\n",
    "df[\"part_aft_1\"] = 0\n",
    "df[\"part_pre_2\"] = 0\n",
    "df[\"part_aft_2\"] = 0\n",
    "df.head()"
   ]
  },
  {
   "cell_type": "code",
   "execution_count": 25,
   "id": "897f02cd",
   "metadata": {},
   "outputs": [],
   "source": [
    "df[\"part_pre_1\"] = df['pos_tag'].shift(periods=1)\n",
    "df[\"part_aft_1\"] = df['pos_tag'].shift(periods=-1)\n",
    "df[\"part_pre_2\"] = df['pos_tag'].shift(periods=2)\n",
    "df[\"part_aft_2\"] = df['pos_tag'].shift(periods=-2)"
   ]
  },
  {
   "cell_type": "code",
   "execution_count": 26,
   "id": "82b7c826",
   "metadata": {},
   "outputs": [
    {
     "data": {
      "text/html": [
       "<div>\n",
       "<style scoped>\n",
       "    .dataframe tbody tr th:only-of-type {\n",
       "        vertical-align: middle;\n",
       "    }\n",
       "\n",
       "    .dataframe tbody tr th {\n",
       "        vertical-align: top;\n",
       "    }\n",
       "\n",
       "    .dataframe thead th {\n",
       "        text-align: right;\n",
       "    }\n",
       "</style>\n",
       "<table border=\"1\" class=\"dataframe\">\n",
       "  <thead>\n",
       "    <tr style=\"text-align: right;\">\n",
       "      <th></th>\n",
       "      <th>token</th>\n",
       "      <th>pos_tag</th>\n",
       "      <th>ezafe_tag</th>\n",
       "      <th>prefix_length</th>\n",
       "      <th>suffix_length</th>\n",
       "      <th>ends_with</th>\n",
       "      <th>part_pre_1</th>\n",
       "      <th>part_aft_1</th>\n",
       "      <th>part_pre_2</th>\n",
       "      <th>part_aft_2</th>\n",
       "    </tr>\n",
       "  </thead>\n",
       "  <tbody>\n",
       "    <tr>\n",
       "      <th>0</th>\n",
       "      <td>136</td>\n",
       "      <td>248</td>\n",
       "      <td>0</td>\n",
       "      <td>0</td>\n",
       "      <td>0</td>\n",
       "      <td>105</td>\n",
       "      <td>NaN</td>\n",
       "      <td>65.0</td>\n",
       "      <td>NaN</td>\n",
       "      <td>167.0</td>\n",
       "    </tr>\n",
       "    <tr>\n",
       "      <th>1</th>\n",
       "      <td>192</td>\n",
       "      <td>65</td>\n",
       "      <td>0</td>\n",
       "      <td>0</td>\n",
       "      <td>0</td>\n",
       "      <td>43</td>\n",
       "      <td>248.0</td>\n",
       "      <td>167.0</td>\n",
       "      <td>NaN</td>\n",
       "      <td>167.0</td>\n",
       "    </tr>\n",
       "    <tr>\n",
       "      <th>2</th>\n",
       "      <td>53399</td>\n",
       "      <td>167</td>\n",
       "      <td>1</td>\n",
       "      <td>0</td>\n",
       "      <td>0</td>\n",
       "      <td>72</td>\n",
       "      <td>65.0</td>\n",
       "      <td>167.0</td>\n",
       "      <td>248.0</td>\n",
       "      <td>167.0</td>\n",
       "    </tr>\n",
       "    <tr>\n",
       "      <th>3</th>\n",
       "      <td>39644</td>\n",
       "      <td>167</td>\n",
       "      <td>1</td>\n",
       "      <td>0</td>\n",
       "      <td>0</td>\n",
       "      <td>105</td>\n",
       "      <td>167.0</td>\n",
       "      <td>167.0</td>\n",
       "      <td>65.0</td>\n",
       "      <td>65.0</td>\n",
       "    </tr>\n",
       "    <tr>\n",
       "      <th>4</th>\n",
       "      <td>42224</td>\n",
       "      <td>167</td>\n",
       "      <td>0</td>\n",
       "      <td>0</td>\n",
       "      <td>0</td>\n",
       "      <td>105</td>\n",
       "      <td>167.0</td>\n",
       "      <td>65.0</td>\n",
       "      <td>167.0</td>\n",
       "      <td>121.0</td>\n",
       "    </tr>\n",
       "  </tbody>\n",
       "</table>\n",
       "</div>"
      ],
      "text/plain": [
       "   token  pos_tag  ezafe_tag  prefix_length  suffix_length  ends_with  \\\n",
       "0    136      248          0              0              0        105   \n",
       "1    192       65          0              0              0         43   \n",
       "2  53399      167          1              0              0         72   \n",
       "3  39644      167          1              0              0        105   \n",
       "4  42224      167          0              0              0        105   \n",
       "\n",
       "   part_pre_1  part_aft_1  part_pre_2  part_aft_2  \n",
       "0         NaN        65.0         NaN       167.0  \n",
       "1       248.0       167.0         NaN       167.0  \n",
       "2        65.0       167.0       248.0       167.0  \n",
       "3       167.0       167.0        65.0        65.0  \n",
       "4       167.0        65.0       167.0       121.0  "
      ]
     },
     "execution_count": 26,
     "metadata": {},
     "output_type": "execute_result"
    }
   ],
   "source": [
    "df.head()"
   ]
  },
  {
   "cell_type": "code",
   "execution_count": 27,
   "id": "89691e66",
   "metadata": {},
   "outputs": [],
   "source": [
    "df['part_pre_1'] = df['part_pre_1'].fillna(0)\n",
    "df['part_aft_1'] = df['part_aft_1'].fillna(0)\n",
    "df['part_pre_2'] = df['part_pre_2'].fillna(0)\n",
    "df['part_aft_2'] = df['part_aft_2'].fillna(0)"
   ]
  },
  {
   "cell_type": "code",
   "execution_count": 28,
   "id": "ee20153b",
   "metadata": {},
   "outputs": [
    {
     "data": {
      "text/html": [
       "<div>\n",
       "<style scoped>\n",
       "    .dataframe tbody tr th:only-of-type {\n",
       "        vertical-align: middle;\n",
       "    }\n",
       "\n",
       "    .dataframe tbody tr th {\n",
       "        vertical-align: top;\n",
       "    }\n",
       "\n",
       "    .dataframe thead th {\n",
       "        text-align: right;\n",
       "    }\n",
       "</style>\n",
       "<table border=\"1\" class=\"dataframe\">\n",
       "  <thead>\n",
       "    <tr style=\"text-align: right;\">\n",
       "      <th></th>\n",
       "      <th>token</th>\n",
       "      <th>pos_tag</th>\n",
       "      <th>ezafe_tag</th>\n",
       "      <th>prefix_length</th>\n",
       "      <th>suffix_length</th>\n",
       "      <th>ends_with</th>\n",
       "      <th>part_pre_1</th>\n",
       "      <th>part_aft_1</th>\n",
       "      <th>part_pre_2</th>\n",
       "      <th>part_aft_2</th>\n",
       "    </tr>\n",
       "  </thead>\n",
       "  <tbody>\n",
       "    <tr>\n",
       "      <th>0</th>\n",
       "      <td>136</td>\n",
       "      <td>248</td>\n",
       "      <td>0</td>\n",
       "      <td>0</td>\n",
       "      <td>0</td>\n",
       "      <td>105</td>\n",
       "      <td>0.0</td>\n",
       "      <td>65.0</td>\n",
       "      <td>0.0</td>\n",
       "      <td>167.0</td>\n",
       "    </tr>\n",
       "    <tr>\n",
       "      <th>1</th>\n",
       "      <td>192</td>\n",
       "      <td>65</td>\n",
       "      <td>0</td>\n",
       "      <td>0</td>\n",
       "      <td>0</td>\n",
       "      <td>43</td>\n",
       "      <td>248.0</td>\n",
       "      <td>167.0</td>\n",
       "      <td>0.0</td>\n",
       "      <td>167.0</td>\n",
       "    </tr>\n",
       "    <tr>\n",
       "      <th>2</th>\n",
       "      <td>53399</td>\n",
       "      <td>167</td>\n",
       "      <td>1</td>\n",
       "      <td>0</td>\n",
       "      <td>0</td>\n",
       "      <td>72</td>\n",
       "      <td>65.0</td>\n",
       "      <td>167.0</td>\n",
       "      <td>248.0</td>\n",
       "      <td>167.0</td>\n",
       "    </tr>\n",
       "    <tr>\n",
       "      <th>3</th>\n",
       "      <td>39644</td>\n",
       "      <td>167</td>\n",
       "      <td>1</td>\n",
       "      <td>0</td>\n",
       "      <td>0</td>\n",
       "      <td>105</td>\n",
       "      <td>167.0</td>\n",
       "      <td>167.0</td>\n",
       "      <td>65.0</td>\n",
       "      <td>65.0</td>\n",
       "    </tr>\n",
       "    <tr>\n",
       "      <th>4</th>\n",
       "      <td>42224</td>\n",
       "      <td>167</td>\n",
       "      <td>0</td>\n",
       "      <td>0</td>\n",
       "      <td>0</td>\n",
       "      <td>105</td>\n",
       "      <td>167.0</td>\n",
       "      <td>65.0</td>\n",
       "      <td>167.0</td>\n",
       "      <td>121.0</td>\n",
       "    </tr>\n",
       "  </tbody>\n",
       "</table>\n",
       "</div>"
      ],
      "text/plain": [
       "   token  pos_tag  ezafe_tag  prefix_length  suffix_length  ends_with  \\\n",
       "0    136      248          0              0              0        105   \n",
       "1    192       65          0              0              0         43   \n",
       "2  53399      167          1              0              0         72   \n",
       "3  39644      167          1              0              0        105   \n",
       "4  42224      167          0              0              0        105   \n",
       "\n",
       "   part_pre_1  part_aft_1  part_pre_2  part_aft_2  \n",
       "0         0.0        65.0         0.0       167.0  \n",
       "1       248.0       167.0         0.0       167.0  \n",
       "2        65.0       167.0       248.0       167.0  \n",
       "3       167.0       167.0        65.0        65.0  \n",
       "4       167.0        65.0       167.0       121.0  "
      ]
     },
     "execution_count": 28,
     "metadata": {},
     "output_type": "execute_result"
    }
   ],
   "source": [
    "df.head()"
   ]
  },
  {
   "cell_type": "markdown",
   "id": "c7f4faaf",
   "metadata": {},
   "source": [
    "Now let's have a look at our **data types**:"
   ]
  },
  {
   "cell_type": "code",
   "execution_count": 29,
   "id": "70a4e3b2",
   "metadata": {},
   "outputs": [
    {
     "name": "stdout",
     "output_type": "stream",
     "text": [
      "<class 'pandas.core.frame.DataFrame'>\n",
      "RangeIndex: 2602536 entries, 0 to 2602535\n",
      "Data columns (total 10 columns):\n",
      " #   Column         Dtype  \n",
      "---  ------         -----  \n",
      " 0   token          int64  \n",
      " 1   pos_tag        int64  \n",
      " 2   ezafe_tag      int64  \n",
      " 3   prefix_length  int64  \n",
      " 4   suffix_length  int64  \n",
      " 5   ends_with      int64  \n",
      " 6   part_pre_1     float64\n",
      " 7   part_aft_1     float64\n",
      " 8   part_pre_2     float64\n",
      " 9   part_aft_2     float64\n",
      "dtypes: float64(4), int64(6)\n",
      "memory usage: 198.6 MB\n"
     ]
    }
   ],
   "source": [
    "df.info()"
   ]
  },
  {
   "cell_type": "markdown",
   "id": "6ec1a026",
   "metadata": {},
   "source": [
    "As you can see 'label' column has **object** data type.\\\n",
    "I need to **fix** this before building our model.\\\n",
    "I do this as bellow:"
   ]
  },
  {
   "cell_type": "code",
   "execution_count": 30,
   "id": "f6c0e02b",
   "metadata": {},
   "outputs": [
    {
     "name": "stdout",
     "output_type": "stream",
     "text": [
      "<class 'pandas.core.frame.DataFrame'>\n",
      "RangeIndex: 2602536 entries, 0 to 2602535\n",
      "Data columns (total 10 columns):\n",
      " #   Column         Dtype  \n",
      "---  ------         -----  \n",
      " 0   token          int64  \n",
      " 1   pos_tag        int64  \n",
      " 2   ezafe_tag      float64\n",
      " 3   prefix_length  int64  \n",
      " 4   suffix_length  int64  \n",
      " 5   ends_with      int64  \n",
      " 6   part_pre_1     float64\n",
      " 7   part_aft_1     float64\n",
      " 8   part_pre_2     float64\n",
      " 9   part_aft_2     float64\n",
      "dtypes: float64(5), int64(5)\n",
      "memory usage: 198.6 MB\n"
     ]
    }
   ],
   "source": [
    "df[\"ezafe_tag\"] = df[\"ezafe_tag\"].astype(str).astype(float)\n",
    "df.info()"
   ]
  },
  {
   "cell_type": "code",
   "execution_count": 33,
   "id": "8492a2cd",
   "metadata": {},
   "outputs": [
    {
     "data": {
      "text/plain": [
       "<matplotlib.axes._subplots.AxesSubplot at 0x7f0d4c1c7cd0>"
      ]
     },
     "execution_count": 33,
     "metadata": {},
     "output_type": "execute_result"
    },
    {
     "data": {
      "image/png": "[encoded data removed]",
      "text/plain": [
       "<Figure size 432x288 with 1 Axes>"
      ]
     },
     "metadata": {
      "needs_background": "light"
     },
     "output_type": "display_data"
    }
   ],
   "source": [
    "df[\"ezafe_tag\"].hist()"
   ]
  },
  {
   "cell_type": "code",
   "execution_count": 34,
   "id": "a57024dc",
   "metadata": {},
   "outputs": [
    {
     "data": {
      "text/plain": [
       "<matplotlib.axes._subplots.AxesSubplot at 0x7f0d4c1a9400>"
      ]
     },
     "execution_count": 34,
     "metadata": {},
     "output_type": "execute_result"
    },
    {
     "data": {
      "image/png": "[encoded data removed]",
      "text/plain": [
       "<Figure size 432x288 with 1 Axes>"
      ]
     },
     "metadata": {
      "needs_background": "light"
     },
     "output_type": "display_data"
    }
   ],
   "source": [
    "df[\"pos_tag\"].hist()"
   ]
  },
  {
   "cell_type": "code",
   "execution_count": 35,
   "id": "589fa60b",
   "metadata": {},
   "outputs": [
    {
     "data": {
      "text/plain": [
       "<matplotlib.axes._subplots.AxesSubplot at 0x7f0d4c11baf0>"
      ]
     },
     "execution_count": 35,
     "metadata": {},
     "output_type": "execute_result"
    },
    {
     "data": {
      "image/png": "[encoded data removed]",
      "text/plain": [
       "<Figure size 432x288 with 1 Axes>"
      ]
     },
     "metadata": {
      "needs_background": "light"
     },
     "output_type": "display_data"
    }
   ],
   "source": [
    "df[\"prefix_length\"].hist()"
   ]
  },
  {
   "cell_type": "code",
   "execution_count": 36,
   "id": "d1221570",
   "metadata": {},
   "outputs": [
    {
     "data": {
      "text/plain": [
       "<matplotlib.axes._subplots.AxesSubplot at 0x7f0d4c0a9430>"
      ]
     },
     "execution_count": 36,
     "metadata": {},
     "output_type": "execute_result"
    },
    {
     "data": {
      "image/png": "[encoded data removed]",
      "text/plain": [
       "<Figure size 432x288 with 1 Axes>"
      ]
     },
     "metadata": {
      "needs_background": "light"
     },
     "output_type": "display_data"
    }
   ],
   "source": [
    "df[\"suffix_length\"].hist()"
   ]
  },
  {
   "cell_type": "markdown",
   "id": "cf5a8136",
   "metadata": {},
   "source": [
    "### Feature selection:"
   ]
  },
  {
   "cell_type": "markdown",
   "id": "00e288ab",
   "metadata": {},
   "source": [
    "To understand what features I should include in constructing the model, I test **adding and discarding each feature** and finding the acuuary of builded model.\n",
    "I did feature selection using **GaussianNB** model and after finding usefull features I'll try new models."
   ]
  },
  {
   "cell_type": "code",
   "execution_count": 31,
   "id": "7740f1db",
   "metadata": {},
   "outputs": [
    {
     "data": {
      "text/html": [
       "<div>\n",
       "<style scoped>\n",
       "    .dataframe tbody tr th:only-of-type {\n",
       "        vertical-align: middle;\n",
       "    }\n",
       "\n",
       "    .dataframe tbody tr th {\n",
       "        vertical-align: top;\n",
       "    }\n",
       "\n",
       "    .dataframe thead th {\n",
       "        text-align: right;\n",
       "    }\n",
       "</style>\n",
       "<table border=\"1\" class=\"dataframe\">\n",
       "  <thead>\n",
       "    <tr style=\"text-align: right;\">\n",
       "      <th></th>\n",
       "      <th>token</th>\n",
       "      <th>pos_tag</th>\n",
       "      <th>ezafe_tag</th>\n",
       "      <th>prefix_length</th>\n",
       "      <th>suffix_length</th>\n",
       "      <th>ends_with</th>\n",
       "      <th>part_pre_1</th>\n",
       "      <th>part_aft_1</th>\n",
       "      <th>part_pre_2</th>\n",
       "      <th>part_aft_2</th>\n",
       "    </tr>\n",
       "  </thead>\n",
       "  <tbody>\n",
       "    <tr>\n",
       "      <th>0</th>\n",
       "      <td>136</td>\n",
       "      <td>248</td>\n",
       "      <td>0.0</td>\n",
       "      <td>0</td>\n",
       "      <td>0</td>\n",
       "      <td>105</td>\n",
       "      <td>0.0</td>\n",
       "      <td>65.0</td>\n",
       "      <td>0.0</td>\n",
       "      <td>167.0</td>\n",
       "    </tr>\n",
       "    <tr>\n",
       "      <th>1</th>\n",
       "      <td>192</td>\n",
       "      <td>65</td>\n",
       "      <td>0.0</td>\n",
       "      <td>0</td>\n",
       "      <td>0</td>\n",
       "      <td>43</td>\n",
       "      <td>248.0</td>\n",
       "      <td>167.0</td>\n",
       "      <td>0.0</td>\n",
       "      <td>167.0</td>\n",
       "    </tr>\n",
       "    <tr>\n",
       "      <th>2</th>\n",
       "      <td>53399</td>\n",
       "      <td>167</td>\n",
       "      <td>1.0</td>\n",
       "      <td>0</td>\n",
       "      <td>0</td>\n",
       "      <td>72</td>\n",
       "      <td>65.0</td>\n",
       "      <td>167.0</td>\n",
       "      <td>248.0</td>\n",
       "      <td>167.0</td>\n",
       "    </tr>\n",
       "    <tr>\n",
       "      <th>3</th>\n",
       "      <td>39644</td>\n",
       "      <td>167</td>\n",
       "      <td>1.0</td>\n",
       "      <td>0</td>\n",
       "      <td>0</td>\n",
       "      <td>105</td>\n",
       "      <td>167.0</td>\n",
       "      <td>167.0</td>\n",
       "      <td>65.0</td>\n",
       "      <td>65.0</td>\n",
       "    </tr>\n",
       "    <tr>\n",
       "      <th>4</th>\n",
       "      <td>42224</td>\n",
       "      <td>167</td>\n",
       "      <td>0.0</td>\n",
       "      <td>0</td>\n",
       "      <td>0</td>\n",
       "      <td>105</td>\n",
       "      <td>167.0</td>\n",
       "      <td>65.0</td>\n",
       "      <td>167.0</td>\n",
       "      <td>121.0</td>\n",
       "    </tr>\n",
       "  </tbody>\n",
       "</table>\n",
       "</div>"
      ],
      "text/plain": [
       "   token  pos_tag  ezafe_tag  prefix_length  suffix_length  ends_with  \\\n",
       "0    136      248        0.0              0              0        105   \n",
       "1    192       65        0.0              0              0         43   \n",
       "2  53399      167        1.0              0              0         72   \n",
       "3  39644      167        1.0              0              0        105   \n",
       "4  42224      167        0.0              0              0        105   \n",
       "\n",
       "   part_pre_1  part_aft_1  part_pre_2  part_aft_2  \n",
       "0         0.0        65.0         0.0       167.0  \n",
       "1       248.0       167.0         0.0       167.0  \n",
       "2        65.0       167.0       248.0       167.0  \n",
       "3       167.0       167.0        65.0        65.0  \n",
       "4       167.0        65.0       167.0       121.0  "
      ]
     },
     "execution_count": 31,
     "metadata": {},
     "output_type": "execute_result"
    }
   ],
   "source": [
    "df.head()"
   ]
  },
  {
   "cell_type": "code",
   "execution_count": 32,
   "id": "7b9e638b",
   "metadata": {},
   "outputs": [],
   "source": [
    "clf = GaussianNB()"
   ]
  },
  {
   "cell_type": "markdown",
   "id": "73064a3a",
   "metadata": {},
   "source": [
    "**Testing with the following features:**\n",
    "* token\n",
    "* pos_tag\n",
    "* prefix_length\n",
    "* suffix_length\n",
    "* ends_with\n",
    "* part_aft_1\n",
    "* part_pre_1"
   ]
  },
  {
   "cell_type": "code",
   "execution_count": 33,
   "id": "ba49566f",
   "metadata": {},
   "outputs": [],
   "source": [
    "y = df['ezafe_tag']\n",
    "X=df[[\"token\" ,\"pos_tag\", \"prefix_length\", \"suffix_length\", \"ends_with\",\"part_aft_1\", \"part_pre_1\"]]"
   ]
  },
  {
   "cell_type": "code",
   "execution_count": 34,
   "id": "b8b14129",
   "metadata": {
    "scrolled": true
   },
   "outputs": [
    {
     "name": "stdout",
     "output_type": "stream",
     "text": [
      "0.7457080390695244\n"
     ]
    }
   ],
   "source": [
    "X_train, X_test, y_train, y_test = train_test_split(X,y, test_size = 0.2)\n",
    "\n",
    "clf.fit(X_train, y_train)\n",
    "\n",
    "y_predict = clf.predict(X_test)\n",
    "\n",
    "print(accuracy_score(y_test, y_predict))\n"
   ]
  },
  {
   "cell_type": "markdown",
   "id": "eaf7106d",
   "metadata": {},
   "source": [
    "**Testing with the following features:**\n",
    "* token\n",
    "* pos_tag\n",
    "* suffix_length\n",
    "* ends_with\n",
    "* part_aft_1\n",
    "* part_pre_1"
   ]
  },
  {
   "cell_type": "code",
   "execution_count": 35,
   "id": "f40205a7",
   "metadata": {},
   "outputs": [
    {
     "name": "stdout",
     "output_type": "stream",
     "text": [
      "0.7461864178840671\n"
     ]
    }
   ],
   "source": [
    "X=df[[\"token\" ,\"pos_tag\", \"suffix_length\", \"ends_with\",\"part_aft_1\", \"part_pre_1\"]]\n",
    "\n",
    "X_train, X_test, y_train, y_test = train_test_split(X,y, test_size = 0.2)\n",
    "\n",
    "clf.fit(X_train, y_train)\n",
    "\n",
    "y_predict = clf.predict(X_test)\n",
    "\n",
    "print(accuracy_score(y_test, y_predict))\n"
   ]
  },
  {
   "cell_type": "markdown",
   "id": "22745683",
   "metadata": {},
   "source": [
    "As you can see **discarding 'prefix_length'** ended up in **improving the model**, so I don't use this feature anymore."
   ]
  },
  {
   "cell_type": "markdown",
   "id": "d1f1696c",
   "metadata": {},
   "source": [
    "**Testing with the following features:**\n",
    "* token\n",
    "* pos_tag\n",
    "* ends_with\n",
    "* part_aft_1\n",
    "* part_pre_1"
   ]
  },
  {
   "cell_type": "code",
   "execution_count": 36,
   "id": "bd8743ad",
   "metadata": {},
   "outputs": [
    {
     "name": "stdout",
     "output_type": "stream",
     "text": [
      "0.7443363022278235\n"
     ]
    }
   ],
   "source": [
    "X=df[[\"token\" ,\"pos_tag\", \"ends_with\",\"part_aft_1\", \"part_pre_1\"]]\n",
    "\n",
    "X_train, X_test, y_train, y_test = train_test_split(X,y, test_size = 0.2)\n",
    "\n",
    "clf.fit(X_train, y_train)\n",
    "\n",
    "y_predict = clf.predict(X_test)\n",
    "\n",
    "print(accuracy_score(y_test, y_predict))"
   ]
  },
  {
   "cell_type": "markdown",
   "id": "318bf968",
   "metadata": {},
   "source": [
    "**Deleting 'suffix_length'** didn't change the accuracy that much."
   ]
  },
  {
   "cell_type": "markdown",
   "id": "19541c75",
   "metadata": {},
   "source": [
    "**Testing with the following features:**\n",
    "* token\n",
    "* pos_tag\n",
    "* part_aft_1\n",
    "* part_pre_1"
   ]
  },
  {
   "cell_type": "code",
   "execution_count": 37,
   "id": "96277e83",
   "metadata": {},
   "outputs": [
    {
     "name": "stdout",
     "output_type": "stream",
     "text": [
      "0.7436677246074989\n"
     ]
    }
   ],
   "source": [
    "X=df[[\"pos_tag\", \"ends_with\",\"part_aft_1\", \"part_pre_1\"]]\n",
    "\n",
    "X_train, X_test, y_train, y_test = train_test_split(X,y, test_size = 0.2)\n",
    "\n",
    "clf.fit(X_train, y_train)\n",
    "\n",
    "y_predict = clf.predict(X_test)\n",
    "\n",
    "print(accuracy_score(y_test, y_predict))"
   ]
  },
  {
   "cell_type": "markdown",
   "id": "b2b193d1",
   "metadata": {},
   "source": [
    "The **word** ,itself, **shouldn't effect the label** and in my opinion it may cause **overfitting** and our model might **memorize the words** instead of checking the condition the word is in.\\\n",
    "So although deleting word column decrased the accuracy a little, I chosed to **delete this column**. "
   ]
  },
  {
   "cell_type": "markdown",
   "id": "9ac5a92c",
   "metadata": {},
   "source": [
    "**Testing with the following features:**\n",
    "* pos_tag\n",
    "* part_aft_1\n",
    "* part_pre_1"
   ]
  },
  {
   "cell_type": "code",
   "execution_count": 38,
   "id": "2258989f",
   "metadata": {},
   "outputs": [
    {
     "name": "stdout",
     "output_type": "stream",
     "text": [
      "0.7288879325581932\n"
     ]
    }
   ],
   "source": [
    "X=df[[\"pos_tag\", \"part_aft_1\", \"part_pre_1\"]]\n",
    "\n",
    "X_train, X_test, y_train, y_test = train_test_split(X,y, test_size = 0.2)\n",
    "\n",
    "clf.fit(X_train, y_train)\n",
    "\n",
    "y_predict = clf.predict(X_test)\n",
    "\n",
    "print(accuracy_score(y_test, y_predict))"
   ]
  },
  {
   "cell_type": "markdown",
   "id": "e7a10126",
   "metadata": {},
   "source": [
    "As you can see **'ends_with'** column is **usefull**."
   ]
  },
  {
   "cell_type": "markdown",
   "id": "18d2e842",
   "metadata": {},
   "source": [
    "**Testing with the following features:**\n",
    "* pos_tag\n",
    "* part_aft_1\n",
    "* ends_with"
   ]
  },
  {
   "cell_type": "code",
   "execution_count": 39,
   "id": "9fef27a5",
   "metadata": {},
   "outputs": [
    {
     "name": "stdout",
     "output_type": "stream",
     "text": [
      "0.7377043196262113\n"
     ]
    }
   ],
   "source": [
    "X=df[[\"pos_tag\", \"part_aft_1\", \"ends_with\"]]\n",
    "\n",
    "X_train, X_test, y_train, y_test = train_test_split(X,y, test_size = 0.2)\n",
    "\n",
    "clf.fit(X_train, y_train)\n",
    "\n",
    "y_predict = clf.predict(X_test)\n",
    "\n",
    "print(accuracy_score(y_test, y_predict))"
   ]
  },
  {
   "cell_type": "markdown",
   "id": "c219ddaa",
   "metadata": {},
   "source": [
    "**Deleting 'part_pre_1'** which shows the part of speech of the previous word **improves the model**."
   ]
  },
  {
   "cell_type": "markdown",
   "id": "c46eb003",
   "metadata": {},
   "source": [
    "**Testing with the following features:**\n",
    "* pos_tag\n",
    "* part_pre_1\n",
    "* ends_with"
   ]
  },
  {
   "cell_type": "code",
   "execution_count": 40,
   "id": "6ff792af",
   "metadata": {},
   "outputs": [
    {
     "name": "stdout",
     "output_type": "stream",
     "text": [
      "0.7353143467535561\n"
     ]
    }
   ],
   "source": [
    "X=df[[\"pos_tag\", \"part_pre_1\", \"ends_with\"]]\n",
    "\n",
    "X_train, X_test, y_train, y_test = train_test_split(X,y, test_size = 0.2)\n",
    "\n",
    "clf.fit(X_train, y_train)\n",
    "\n",
    "y_predict = clf.predict(X_test)\n",
    "\n",
    "print(accuracy_score(y_test, y_predict))"
   ]
  },
  {
   "cell_type": "markdown",
   "id": "c5ce910d",
   "metadata": {},
   "source": [
    "**Testing with the following features:**\n",
    "* token\n",
    "* pos_tag\n",
    "* part_aft_1"
   ]
  },
  {
   "cell_type": "code",
   "execution_count": 41,
   "id": "2817e8df",
   "metadata": {},
   "outputs": [
    {
     "name": "stdout",
     "output_type": "stream",
     "text": [
      "0.7942337101447048\n"
     ]
    }
   ],
   "source": [
    "X=df[[\"token\",\"pos_tag\", \"part_aft_1\"]]\n",
    "\n",
    "X_train, X_test, y_train, y_test = train_test_split(X,y, test_size = 0.2)\n",
    "\n",
    "clf.fit(X_train, y_train)\n",
    "\n",
    "y_predict = clf.predict(X_test)\n",
    "\n",
    "print(accuracy_score(y_test, y_predict))"
   ]
  },
  {
   "cell_type": "markdown",
   "id": "5bd72fcd",
   "metadata": {},
   "source": [
    "**Testing with the following features:**\n",
    "* token\n",
    "* pos_tag\n",
    "* part_aft_1\n",
    "* part_aft_2\n",
    "* part_pre_1\n",
    "* ends_with"
   ]
  },
  {
   "cell_type": "code",
   "execution_count": 42,
   "id": "ff14b3e5",
   "metadata": {},
   "outputs": [
    {
     "name": "stdout",
     "output_type": "stream",
     "text": [
      "0.7492603379775142\n"
     ]
    }
   ],
   "source": [
    "X=df[[\"token\",\"pos_tag\", \"part_aft_1\", \"part_aft_2\", \"part_pre_1\", \"ends_with\"]]\n",
    "\n",
    "X_train, X_test, y_train, y_test = train_test_split(X,y, test_size = 0.2)\n",
    "\n",
    "clf.fit(X_train, y_train)\n",
    "\n",
    "y_predict = clf.predict(X_test)\n",
    "\n",
    "print(accuracy_score(y_test, y_predict))"
   ]
  },
  {
   "cell_type": "markdown",
   "id": "10e02f2c",
   "metadata": {},
   "source": [
    "#### Deciding which features to use:\n",
    "The best accuracy I got was the one with the feature **'token', 'pos_tag'** and **'part_aft_1'**.\n",
    "So from now on I use these features and try different models(othe than GaussianNB) to find the best fit for this dataset."
   ]
  },
  {
   "cell_type": "markdown",
   "id": "ea65c32b",
   "metadata": {},
   "source": [
    "#### Model selection:"
   ]
  },
  {
   "cell_type": "code",
   "execution_count": 43,
   "id": "22445a44",
   "metadata": {},
   "outputs": [],
   "source": [
    "def ac_pr_re(Y_test, Y_predict):\n",
    "    accuracy = accuracy_score(Y_test, y_predict)\n",
    "    percision = precision_score(Y_test, y_predict)\n",
    "    recall = recall_score(Y_test, y_predict, average=\"binary\")\n",
    "    \n",
    "    print(\"accuracy :\", end=\" \")\n",
    "    print(float(accuracy)*100)\n",
    "    \n",
    "    print(\"percision :\", end=\" \")\n",
    "    print(float(percision)*100)\n",
    "    \n",
    "    print(\"recall :\", end=\" \")\n",
    "    print(float(recall)*100)"
   ]
  },
  {
   "cell_type": "markdown",
   "id": "c352ef69",
   "metadata": {},
   "source": [
    "**MultinomialNB:**"
   ]
  },
  {
   "cell_type": "code",
   "execution_count": 56,
   "id": "554a954f",
   "metadata": {},
   "outputs": [],
   "source": [
    "X = list(zip(df[\"token\"], df[\"pos_tag\"], df[\"part_aft_1\"], df[\"part_aft_2\"], df[\"part_pre_1\"], df[\"ends_with\"]))\n",
    "X_train, X_test, y_train, y_test = train_test_split(X,y, test_size = 0.2)\n",
    "X_train = X[:-100000]\n",
    "X_test = X[-100000:]\n",
    "y_train = y[:-100000]\n",
    "y_test = y[-100000:]"
   ]
  },
  {
   "cell_type": "code",
   "execution_count": 57,
   "id": "08756cc7",
   "metadata": {},
   "outputs": [
    {
     "name": "stdout",
     "output_type": "stream",
     "text": [
      "accuracy : 62.781\n",
      "percision : 34.853983896166326\n",
      "recall : 58.908839779005525\n"
     ]
    }
   ],
   "source": [
    "clf = MultinomialNB()\n",
    "\n",
    "clf.fit(X_train, y_train)\n",
    "\n",
    "y_predict = clf.predict(X_test)\n",
    "\n",
    "ac_pr_re(y_test, y_predict)"
   ]
  },
  {
   "cell_type": "markdown",
   "id": "e9838926",
   "metadata": {},
   "source": [
    "**DecisionTree:**"
   ]
  },
  {
   "cell_type": "code",
   "execution_count": 58,
   "id": "d2451226",
   "metadata": {
    "scrolled": true
   },
   "outputs": [
    {
     "name": "stdout",
     "output_type": "stream",
     "text": [
      "accuracy : 96.788\n",
      "percision : 93.86065573770492\n",
      "recall : 93.03704907377316\n",
      "None\n"
     ]
    }
   ],
   "source": [
    "clf = tree.DecisionTreeClassifier()\n",
    "\n",
    "clf.fit(X_train, y_train)\n",
    "\n",
    "y_predict = clf.predict(X_test)\n",
    "\n",
    "print(ac_pr_re(y_test, y_predict))"
   ]
  },
  {
   "cell_type": "markdown",
   "id": "027c06c7",
   "metadata": {},
   "source": [
    "**Perceptron classifier:**"
   ]
  },
  {
   "cell_type": "code",
   "execution_count": 59,
   "id": "1abe4049",
   "metadata": {
    "scrolled": true
   },
   "outputs": [
    {
     "name": "stdout",
     "output_type": "stream",
     "text": [
      "accuracy : 60.916000000000004\n",
      "percision : 37.709819911654776\n",
      "recall : 90.16899577510561\n"
     ]
    }
   ],
   "source": [
    "clf = Perceptron(tol=1e-3,n_iter_no_change=8, random_state=0)\n",
    "\n",
    "clf.fit(X_train, y_train)\n",
    "\n",
    "y_predict = clf.predict(X_test)\n",
    "\n",
    "ac_pr_re(y_test, y_predict)"
   ]
  },
  {
   "cell_type": "markdown",
   "id": "11645450",
   "metadata": {},
   "source": [
    "**Logistic Regression:**"
   ]
  },
  {
   "cell_type": "code",
   "execution_count": 60,
   "id": "55f0610d",
   "metadata": {
    "scrolled": true
   },
   "outputs": [
    {
     "name": "stderr",
     "output_type": "stream",
     "text": [
      "/home/niloufar/.local/lib/python3.8/site-packages/sklearn/linear_model/_logistic.py:814: ConvergenceWarning: lbfgs failed to converge (status=1):\n",
      "STOP: TOTAL NO. of ITERATIONS REACHED LIMIT.\n",
      "\n",
      "Increase the number of iterations (max_iter) or scale the data as shown in:\n",
      "    https://scikit-learn.org/stable/modules/preprocessing.html\n",
      "Please also refer to the documentation for alternative solver options:\n",
      "    https://scikit-learn.org/stable/modules/linear_model.html#logistic-regression\n",
      "  n_iter_i = _check_optimize_result(\n"
     ]
    },
    {
     "name": "stdout",
     "output_type": "stream",
     "text": [
      "accuracy : 74.786\n",
      "percision : 45.557206537890046\n",
      "recall : 12.45531361715957\n"
     ]
    }
   ],
   "source": [
    "clf = LogisticRegression(random_state=0)\n",
    "\n",
    "clf.fit(X_train, y_train)\n",
    "\n",
    "y_predict = clf.predict(X_test)\n",
    "\n",
    "ac_pr_re(y_test, y_predict)"
   ]
  },
  {
   "cell_type": "markdown",
   "id": "8e9b1d0d",
   "metadata": {},
   "source": [
    "**MLP (neural network):**"
   ]
  },
  {
   "cell_type": "code",
   "execution_count": 61,
   "id": "31bb0635",
   "metadata": {
    "scrolled": true
   },
   "outputs": [
    {
     "name": "stderr",
     "output_type": "stream",
     "text": [
      "/home/niloufar/.local/lib/python3.8/site-packages/sklearn/neural_network/_multilayer_perceptron.py:549: ConvergenceWarning: lbfgs failed to converge (status=2):\n",
      "ABNORMAL_TERMINATION_IN_LNSRCH.\n",
      "\n",
      "Increase the number of iterations (max_iter) or scale the data as shown in:\n",
      "    https://scikit-learn.org/stable/modules/preprocessing.html\n",
      "  self.n_iter_ = _check_optimize_result(\"lbfgs\", opt_res, self.max_iter)\n",
      "/home/niloufar/.local/lib/python3.8/site-packages/sklearn/metrics/_classification.py:1318: UndefinedMetricWarning: Precision is ill-defined and being set to 0.0 due to no predicted samples. Use `zero_division` parameter to control this behavior.\n",
      "  _warn_prf(average, modifier, msg_start, len(result))\n"
     ]
    },
    {
     "name": "stdout",
     "output_type": "stream",
     "text": [
      "accuracy : 75.384\n",
      "percision : 0.0\n",
      "recall : 0.0\n"
     ]
    }
   ],
   "source": [
    "clf = MLPClassifier(solver='lbfgs', alpha=1e-5, hidden_layer_sizes=(3, 2), random_state=1)\n",
    "\n",
    "clf.fit(X_train, y_train)\n",
    "\n",
    "y_predict = clf.predict(X_test)\n",
    "\n",
    "ac_pr_re(y_test, y_predict)"
   ]
  },
  {
   "cell_type": "code",
   "execution_count": null,
   "id": "87b0829e",
   "metadata": {},
   "outputs": [],
   "source": []
  }
 ],
 "metadata": {
  "kernelspec": {
   "display_name": "Python 3 (ipykernel)",
   "language": "python",
   "name": "python3"
  },
  "language_info": {
   "codemirror_mode": {
    "name": "ipython",
    "version": 3
   },
   "file_extension": ".py",
   "mimetype": "text/x-python",
   "name": "python",
   "nbconvert_exporter": "python",
   "pygments_lexer": "ipython3",
   "version": "3.8.10"
  }
 },
 "nbformat": 4,
 "nbformat_minor": 5
}
